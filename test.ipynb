{
 "cells": [
  {
   "cell_type": "markdown",
   "metadata": {},
   "source": [
    "# Matrix input\n",
    "\n",
    "|Parametr     | Input |Example                                                               |Meaning                          |\n",
    "|-------------|-------|----------------------------------------------------------------------|---------------------------------|\n",
    "|str_num      |Integer|a in N                                                                |Input num of string of matrix    |\n",
    "|column_num   |Integer|a in N                                                                |Input num of column of matrix    |\n",
    "|type_m       |String |**float**: <br> \"f\" or \"fl\" or \"float\"  <br>**int**: <br> \"i\" or \"int\" <br> **string**: <br> nothing or \"str\" or \"s\"|Input type of elements of matrix |\n",
    "\n"
   ]
  },
  {
   "cell_type": "code",
   "execution_count": 27,
   "metadata": {},
   "outputs": [
    {
     "name": "stdout",
     "output_type": "stream",
     "text": [
      "[[1.0, 2.0, 3.0], [2.0, 3.0, 4.0]]\n"
     ]
    }
   ],
   "source": [
    "def input_matrix(str_num, column_num, type_m):\n",
    "    matrix = []\n",
    "    for i in range(str_num):\n",
    "        matrix.append(str(input()).split())\n",
    "        if len(matrix[i]) < column_num:\n",
    "            matrix[i] = matrix[i] + [0] * (column_num - len(matrix[i]))\n",
    "        elif len(matrix[i]) > column_num:\n",
    "            p = matrix[i]\n",
    "            while len(p) > column_num:\n",
    "                p.pop()\n",
    "            else:\n",
    "                matrix[i] = p\n",
    "        if type_m == \"int\" or type_m == \"i\":\n",
    "            for j in range(len(matrix[i])):\n",
    "                matrix[i][j] = int(matrix[i][j])\n",
    "        elif type_m == \"float\" or type_m == \"fl\" or type_m == \"f\":\n",
    "            for j in range(len(matrix[i])):\n",
    "                matrix[i][j] = float(matrix[i][j])\n",
    "    return matrix\n",
    "        \n",
    "        \n",
    "print(input_matrix(int(input()), int(input()), \"f\"))\n",
    "            "
   ]
  },
  {
   "cell_type": "markdown",
   "metadata": {},
   "source": [
    "# Matrix output\n",
    "\n",
    "|Parametr |Input|Example|Meaning|\n",
    "|---------|-----|-------|-------|\n",
    "|matrix   |list of lists|[[1, 12, 345], [12, 33, 1], [23, 0, 0]]|Input matrix that you want to output|"
   ]
  },
  {
   "cell_type": "code",
   "execution_count": 42,
   "metadata": {},
   "outputs": [
    {
     "name": "stdout",
     "output_type": "stream",
     "text": [
      "/  1  12  345  \\\n",
      "| 12  33   1   |\n",
      "\\ 23   0   0   /\n"
     ]
    }
   ],
   "source": [
    "def print_matrix(matrix):\n",
    "    max_len = 0\n",
    "    for i in range(len(matrix)):\n",
    "        for j in matrix[i]:\n",
    "            if len(str(j)) > max_len:\n",
    "                max_len = len(str(j))\n",
    "    for i in range(len(matrix)):\n",
    "        if i == 0:\n",
    "            print(\"/ \", end=\"\")\n",
    "        elif i == len(matrix) - 1:\n",
    "            print(\"\\\\ \", end=\"\")\n",
    "        else:\n",
    "            print(\"| \", end=\"\")\n",
    "        for j in range(len(matrix[i])):\n",
    "            print(f\"{matrix[i][j]: ^{max_len}} \", end=\"\")\n",
    "        if i == 0:\n",
    "            print(\" \\\\\")\n",
    "        elif i == len(matrix) - 1:\n",
    "            print(\" /\")\n",
    "        else:\n",
    "            print(\" |\")\n",
    "        \n",
    "        \n",
    "        \n",
    "mat = [[1, 12, 345], [12, 33, 1], [23, 0, 0]]\n",
    "print_matrix(mat)\n",
    "    "
   ]
  },
  {
   "cell_type": "code",
   "execution_count": null,
   "metadata": {},
   "outputs": [],
   "source": []
  }
 ],
 "metadata": {
  "kernelspec": {
   "display_name": "Python 3",
   "language": "python",
   "name": "python3"
  },
  "language_info": {
   "codemirror_mode": {
    "name": "ipython",
    "version": 3
   },
   "file_extension": ".py",
   "mimetype": "text/x-python",
   "name": "python",
   "nbconvert_exporter": "python",
   "pygments_lexer": "ipython3",
   "version": "3.12.5"
  }
 },
 "nbformat": 4,
 "nbformat_minor": 2
}
