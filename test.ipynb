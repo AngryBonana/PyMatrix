{
 "cells": [
  {
   "cell_type": "markdown",
   "metadata": {},
   "source": [
    "# Matrix input\n",
    "\n",
    "---\n",
    "\n",
    "\n",
    "input_matrix(str_num, column_num, type_m)\n",
    "\n",
    "\n",
    "---\n",
    "\n",
    "|Parametr     | Input |Example                                                               |Meaning                          |\n",
    "|-------------|-------|----------------------------------------------------------------------|---------------------------------|\n",
    "|str_num      |Integer|a in N                                                                |Input num of string of matrix    |\n",
    "|column_num   |Integer|a in N                                                                |Input num of column of matrix    |\n",
    "|type_m       |String |**float**: <br> \"f\" or \"fl\" or \"float\"  <br>**int**: <br> \"i\" or \"int\" <br> **string**: <br> nothing or \"str\" or \"s\"|Input type of elements of matrix |\n",
    "\n"
   ]
  },
  {
   "cell_type": "code",
   "execution_count": 27,
   "metadata": {},
   "outputs": [
    {
     "name": "stdout",
     "output_type": "stream",
     "text": [
      "[[1.0, 2.0, 3.0], [2.0, 3.0, 4.0]]\n"
     ]
    }
   ],
   "source": [
    "def input_matrix(str_num, column_num, type_m):\n",
    "    matrix = []\n",
    "    for i in range(str_num):\n",
    "        matrix.append(str(input()).split())\n",
    "        if len(matrix[i]) < column_num:\n",
    "            matrix[i] = matrix[i] + [0] * (column_num - len(matrix[i]))\n",
    "        elif len(matrix[i]) > column_num:\n",
    "            p = matrix[i]\n",
    "            while len(p) > column_num:\n",
    "                p.pop()\n",
    "            else:\n",
    "                matrix[i] = p\n",
    "        if type_m == \"int\" or type_m == \"i\":\n",
    "            for j in range(len(matrix[i])):\n",
    "                matrix[i][j] = int(matrix[i][j])\n",
    "        elif type_m == \"float\" or type_m == \"fl\" or type_m == \"f\":\n",
    "            for j in range(len(matrix[i])):\n",
    "                matrix[i][j] = float(matrix[i][j])\n",
    "    return matrix\n",
    "        \n",
    "        \n",
    "print(input_matrix(int(input()), int(input()), \"f\"))\n",
    "            "
   ]
  },
  {
   "cell_type": "markdown",
   "metadata": {},
   "source": [
    "# Matrix output\n",
    "---\n",
    "\n",
    "print_matrix(matrix)\n",
    "\n",
    "---\n",
    "\n",
    "|Parametr |Input|Example|Meaning|\n",
    "|---------|-----|-------|-------|\n",
    "|matrix   |list of lists|[[1, 12, 345], [12, 33, 1], [23, 0, 0]]|Input matrix that you want to output|"
   ]
  },
  {
   "cell_type": "code",
   "execution_count": 42,
   "metadata": {},
   "outputs": [
    {
     "name": "stdout",
     "output_type": "stream",
     "text": [
      "/  1  12  345  \\\n",
      "| 12  33   1   |\n",
      "\\ 23   0   0   /\n"
     ]
    }
   ],
   "source": [
    "def print_matrix(matrix):\n",
    "    max_len = 0\n",
    "    for i in range(len(matrix)):\n",
    "        for j in matrix[i]:\n",
    "            if len(str(j)) > max_len:\n",
    "                max_len = len(str(j))\n",
    "    for i in range(len(matrix)):\n",
    "        if i == 0:\n",
    "            print(\"/ \", end=\"\")\n",
    "        elif i == len(matrix) - 1:\n",
    "            print(\"\\\\ \", end=\"\")\n",
    "        else:\n",
    "            print(\"| \", end=\"\")\n",
    "        for j in range(len(matrix[i])):\n",
    "            print(f\"{matrix[i][j]: ^{max_len}} \", end=\"\")\n",
    "        if i == 0:\n",
    "            print(\" \\\\\")\n",
    "        elif i == len(matrix) - 1:\n",
    "            print(\" /\")\n",
    "        else:\n",
    "            print(\" |\")\n",
    "        \n",
    "        \n",
    "        \n",
    "mat = [[1, 12, 345], [12, 33, 1], [23, 0, 0]]\n",
    "print_matrix(mat)\n",
    "    "
   ]
  },
  {
   "cell_type": "markdown",
   "metadata": {},
   "source": [
    "# Matrix sum\n",
    "----\n",
    "\n",
    "sum_matrix(matrixes)\n",
    "\n",
    "---\n",
    "|Parametr |Input|Example|Meaning|\n",
    "|---------|-----|-------|-------|\n",
    "|*matrix   |some matrixes of same order|[[1, 2]], [[2, 1]]|Input matrix that you want to sum|\n",
    "\n",
    "return one matrix – sum of all matrixes"
   ]
  },
  {
   "cell_type": "code",
   "execution_count": 15,
   "metadata": {},
   "outputs": [
    {
     "name": "stdout",
     "output_type": "stream",
     "text": [
      "[[0, 0, 0], [0, 0, 0], [0, 0, 0]]\n"
     ]
    }
   ],
   "source": [
    "def sum_matrix(*matrix):\n",
    "    if len(matrix) == 1:\n",
    "        return matrix[0]\n",
    "    elif len(matrix) == 0:\n",
    "        return 0\n",
    "    for i in range(1, len(matrix)):\n",
    "        for j in range(len(matrix[i])):\n",
    "            for k in range(len(matrix[i][j])):\n",
    "                matrix[i][j][k] = matrix[i][j][k] + matrix[i - 1][j][k]\n",
    "    return matrix[-1]\n",
    "\n",
    "\n",
    "mat = [[1, 12, 345], [12, 33, 1], [23, 0, 0]]\n",
    "mat1 = [[1, 12, 345], [12, 33, 1], [23, 0, 0]]\n",
    "print(sum_matrix(mat, mat1))\n",
    "\n",
    "        "
   ]
  },
  {
   "cell_type": "markdown",
   "metadata": {},
   "source": [
    "# Inverse matrix\n",
    "---\n",
    "inverse_matrix()\n",
    "\n",
    "change signs of all elements of matrix"
   ]
  },
  {
   "cell_type": "code",
   "execution_count": 14,
   "metadata": {},
   "outputs": [
    {
     "name": "stdout",
     "output_type": "stream",
     "text": [
      "[[-2, -12, -345], [-12, -34, -1], [-23, 0, 0]]\n"
     ]
    }
   ],
   "source": [
    "def inverse_matrix(matrix1):\n",
    "    for i in range(len(matrix1)):\n",
    "        for j in range(len(matrix1[i])):\n",
    "            matrix1[i][j] = -matrix1[i][j]\n",
    "    return matrix1\n",
    "\n",
    "\n",
    "mat = [[2, 12, 345], [12, 34, 1], [23, 0, 0]]\n",
    "print(inverse_matrix(mat))"
   ]
  },
  {
   "cell_type": "markdown",
   "metadata": {},
   "source": [
    "# Matrix substruction\n",
    "----\n",
    "\n",
    "substraction_matrix(matrix1, matrix2)\n",
    "\n",
    "---\n",
    "|Parametr |Input|Example|Meaning|\n",
    "|---------|-----|-------|-------|\n",
    "|matrix1 and matrix 2  |two matrixes of same order|[[1, 2]], [[2, 1]]|Input matrix that you want to sum|\n",
    "\n",
    "return matrix1 - matrix2"
   ]
  },
  {
   "cell_type": "code",
   "execution_count": 10,
   "metadata": {},
   "outputs": [
    {
     "name": "stdout",
     "output_type": "stream",
     "text": [
      "[[1, 0, 0], [0, 1, 0], [0, 0, 1]]\n"
     ]
    }
   ],
   "source": [
    "def substraction_matrix(matrix1, matrix2):\n",
    "    for i in range(len(matrix1)):\n",
    "        for j in range(len(matrix1[i])):\n",
    "            matrix1[i][j] = matrix1[i][j] - matrix2[i][j]\n",
    "    return matrix1\n",
    "\n",
    "\n",
    "mat = [[2, 12, 345], [12, 34, 1], [23, 0, 0]]\n",
    "mat1 = [[1, 12, 345], [12, 33, 1], [23, 0, -1]]\n",
    "print(substraction_matrix(mat, mat1))"
   ]
  },
  {
   "cell_type": "markdown",
   "metadata": {},
   "source": [
    "# Matrix transponation\n",
    "---\n",
    "\n",
    "transponate_matrix(matrix)\n",
    "\n",
    "return transponated matrix"
   ]
  },
  {
   "cell_type": "code",
   "execution_count": 20,
   "metadata": {},
   "outputs": [
    {
     "name": "stdout",
     "output_type": "stream",
     "text": [
      "[[1, 4, 7], [2, 5, 8], [3, 6, 9]]\n"
     ]
    }
   ],
   "source": [
    "def transponate_matrix(matrix):\n",
    "    transp = []\n",
    "    for i in range(len(matrix)):\n",
    "        line = []\n",
    "        for j in range (len(matrix[i])):\n",
    "            line.append(matrix[j][i])\n",
    "        transp.append(line)\n",
    "    return transp\n",
    "    \n",
    "    \n",
    "mat = [[1, 2, 3], [4, 5, 6], [7, 8, 9]]\n",
    "print(transponate_matrix(mat))"
   ]
  },
  {
   "cell_type": "markdown",
   "metadata": {},
   "source": [
    "# Matrix multiplication\n",
    "\n",
    "matrix_time(matrix, num)\n",
    "\n",
    "num is the number of times matrix"
   ]
  },
  {
   "cell_type": "code",
   "execution_count": 24,
   "metadata": {},
   "outputs": [
    {
     "name": "stdout",
     "output_type": "stream",
     "text": [
      "[[4, 8, 12], [16, 20, 24], [28, 32, 36]]\n"
     ]
    }
   ],
   "source": [
    "def matrix_time(matrix, num):\n",
    "    for i in range(len(matrix)):\n",
    "        for j in range(len(matrix[i])):\n",
    "            matrix[i][j] = matrix[i][j] * num\n",
    "    return matrix\n",
    "            \n",
    "mat = [[1, 2, 3], [4, 5, 6], [7, 8, 9]]\n",
    "print(matrix_time(mat, 4))"
   ]
  },
  {
   "cell_type": "markdown",
   "metadata": {},
   "source": [
    "# Matrix x matrix\n",
    "\n",
    "mat_x_mat(mat1, mat2)"
   ]
  },
  {
   "cell_type": "code",
   "execution_count": 2,
   "metadata": {},
   "outputs": [
    {
     "name": "stdout",
     "output_type": "stream",
     "text": [
      "[[7, 10], [15, 22]]\n"
     ]
    }
   ],
   "source": [
    "def mat_x_mat(mat1, mat2):\n",
    "    n = len(mat1) # strings\n",
    "    m = len(mat2[0]) # columns\n",
    "    if len(mat1[0]) != len(mat2):\n",
    "        return 0\n",
    "    matrix = []\n",
    "    for i in range(n):\n",
    "        string = []\n",
    "        for j in range(m):\n",
    "            sum = 0\n",
    "            for k in range(len(mat1[0])):\n",
    "                sum += mat1[i][k] * mat2[k][j]\n",
    "            string.append(sum)\n",
    "        matrix.append(string)\n",
    "    return matrix\n",
    "        \n",
    "        \n",
    "print(mat_x_mat([[1, 2], [3, 4]], [[1, 2], [3, 4]]))"
   ]
  },
  {
   "cell_type": "markdown",
   "metadata": {},
   "source": [
    "# Null matrix\n",
    "\n",
    "null_matrix(string, column)"
   ]
  },
  {
   "cell_type": "code",
   "execution_count": 3,
   "metadata": {},
   "outputs": [
    {
     "name": "stdout",
     "output_type": "stream",
     "text": [
      "[[0, 0, 0], [0, 0, 0]]\n"
     ]
    }
   ],
   "source": [
    "def null_matrix(string, column):\n",
    "    matrix = []\n",
    "    for i in range(string):\n",
    "        line = []\n",
    "        for j in range(column):\n",
    "            line.append(0)\n",
    "        matrix.append(line)\n",
    "    return matrix\n",
    "\n",
    "\n",
    "print(null_matrix(2, 3))"
   ]
  },
  {
   "cell_type": "code",
   "execution_count": null,
   "metadata": {},
   "outputs": [],
   "source": []
  }
 ],
 "metadata": {
  "kernelspec": {
   "display_name": "Python 3",
   "language": "python",
   "name": "python3"
  },
  "language_info": {
   "codemirror_mode": {
    "name": "ipython",
    "version": 3
   },
   "file_extension": ".py",
   "mimetype": "text/x-python",
   "name": "python",
   "nbconvert_exporter": "python",
   "pygments_lexer": "ipython3",
   "version": "3.12.5"
  }
 },
 "nbformat": 4,
 "nbformat_minor": 2
}
